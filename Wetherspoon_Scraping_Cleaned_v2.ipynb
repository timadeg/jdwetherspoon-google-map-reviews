{
 "cells": [
  {
   "cell_type": "code",
   "execution_count": 42,
   "id": "8c2b8d3d",
   "metadata": {},
   "outputs": [],
   "source": [
    "import re\n",
    "import csv\n",
    "import time\n",
    "\n",
    "from selenium import webdriver\n",
    "from selenium.webdriver.common.by import By\n",
    "from selenium.webdriver.common.keys import Keys\n",
    "from selenium.webdriver.support.ui import WebDriverWait\n",
    "from selenium.webdriver.support import expected_conditions as EC\n",
    "from selenium.common.exceptions import NoSuchElementException, TimeoutException\n"
   ]
  },
  {
   "cell_type": "code",
   "execution_count": 43,
   "id": "36c88094",
   "metadata": {},
   "outputs": [],
   "source": [
    "\n",
    "# Set up the Selenium WebDriver (Make sure to have the appropriate driver, e.g., chromedriver, in the system PATH)\n",
    "driver = webdriver.Chrome()\n",
    "wait = WebDriverWait(driver, 10)\n",
    "# Load the review page\n",
    "url = \"https://www.google.com/maps/place/The+Moon+Under+Water+-+JD+Wetherspoon/data=!4m7!3m6!1s0x487bb1c3f4cdafff:0x354cdeb8a6581cf8!8m2!3d53.4828699!4d-2.2468625!16s%2Fm%2F0bm8swc!19sChIJ_6_N9MOxe0gR-BxYprjeTDU?authuser=0&hl=en&rclk=1\"\n",
    "driver.get(url)\n",
    "\n",
    "\n",
    "accept_button = driver.find_element(By.XPATH, '//*[@id=\"yDmH0d\"]/c-wiz/div/div/div/div[2]/div[1]/div[3]/div[1]/div[1]/form[2]/div/div/button/span')\n",
    "accept_button.click()\n",
    "\n",
    "\n",
    "# Wait for up to 10 seconds before throwing a timeout exception\n",
    "wait = WebDriverWait(driver, 10)\n",
    "\n",
    "element = wait.until(EC.presence_of_element_located((By.XPATH, '//*[@id=\"QA0Szd\"]/div/div/div[1]/div[2]/div/div[1]/div/div/div[3]/div/div/button[2]/div[2]/div[2]')))\n",
    "element.click()\n"
   ]
  },
  {
   "cell_type": "code",
   "execution_count": 29,
   "id": "44fd8c89",
   "metadata": {},
   "outputs": [],
   "source": []
  },
  {
   "cell_type": "code",
   "execution_count": 64,
   "id": "292b376c",
   "metadata": {
    "scrolled": true
   },
   "outputs": [
    {
     "ename": "KeyboardInterrupt",
     "evalue": "",
     "output_type": "error",
     "traceback": [
      "\u001b[1;31m---------------------------------------------------------------------------\u001b[0m",
      "\u001b[1;31mKeyboardInterrupt\u001b[0m                         Traceback (most recent call last)",
      "Cell \u001b[1;32mIn[64], line 12\u001b[0m\n\u001b[0;32m     10\u001b[0m \u001b[38;5;28;01mfor\u001b[39;00m i \u001b[38;5;129;01min\u001b[39;00m \u001b[38;5;28mrange\u001b[39m(\u001b[38;5;241m0\u001b[39m, (\u001b[38;5;28mround\u001b[39m(total_number_of_reviews\u001b[38;5;241m/\u001b[39m\u001b[38;5;241m10\u001b[39m \u001b[38;5;241m-\u001b[39m \u001b[38;5;241m1\u001b[39m))):\n\u001b[0;32m     11\u001b[0m     driver\u001b[38;5;241m.\u001b[39mexecute_script(\u001b[38;5;124m'\u001b[39m\u001b[38;5;124marguments[0].scrollTop = arguments[0].scrollHeight\u001b[39m\u001b[38;5;124m'\u001b[39m, scrollable_div)\n\u001b[1;32m---> 12\u001b[0m     time\u001b[38;5;241m.\u001b[39msleep(\u001b[38;5;241m2\u001b[39m)\n",
      "\u001b[1;31mKeyboardInterrupt\u001b[0m: "
     ]
    }
   ],
   "source": [
    "# Find the total number of reviews\n",
    "total_number_of_reviews_element = driver.find_element(By.XPATH, '//*[@id=\"QA0Szd\"]/div/div/div[1]/div[2]/div/div[1]/div/div/div[2]/div[1]/div/div[2]/div[3]')\n",
    "total_number_of_reviews = total_number_of_reviews_element.text.split(\" \")[0]\n",
    "total_number_of_reviews = int(total_number_of_reviews.replace(',','')) if ',' in total_number_of_reviews else int(total_number_of_reviews)\n",
    "\n",
    "# Find scroll layout\n",
    "scrollable_div = driver.find_element(By.XPATH, '//*[@id=\"QA0Szd\"]/div/div/div[1]/div[2]/div/div[1]/div/div/div[2]')\n",
    "\n",
    "# Scroll as many times as necessary to load all reviews\n",
    "for i in range(0, (round(total_number_of_reviews/10 - 1))):\n",
    "    driver.execute_script('arguments[0].scrollTop = arguments[0].scrollHeight', scrollable_div)\n",
    "    time.sleep(2)\n"
   ]
  },
  {
   "cell_type": "markdown",
   "id": "cebfa55e",
   "metadata": {},
   "source": [
    "####### First, ensure you've navigated to the Google Maps page for the location you want to scrape\n",
    "\n",
    "####### Try to locate the element that displays the total number of reviews\n",
    "try:\n",
    "    total_number_of_reviews_element = driver.find_element(By.XPATH, '//*[@id=\"QA0Szd\"]/div/div/div[1]/div[2]/div/div[1]/div/div/div[2]/div[1]/div/div[2]/div[3]')\n",
    "    print(f\"Total number of reviews element found: {total_number_of_reviews_element.text}\")\n",
    "except:\n",
    "    print(\"Failed to locate the total number of reviews element.\")\n",
    "\n",
    "####### Try to locate the scrollable div\n",
    "try:\n",
    "    scrollable_div = driver.find_element(By.XPATH, '//*[@id=\"QA0Szd\"]/div/div/div[1]/div[2]/div/div[1]/div/div/div[2]')\n",
    "    print(\"Successfully located the scrollable div.\")\n",
    "except:\n",
    "    print(\"Failed to locate the scrollable div.\")\n"
   ]
  },
  {
   "cell_type": "code",
   "execution_count": 65,
   "id": "993c51bf",
   "metadata": {},
   "outputs": [],
   "source": [
    "# Get the current page's source\n",
    "html_content = driver.page_source\n",
    "\n",
    "# Save the content to a file\n",
    "with open('jdwpage_relevant.html', 'w', encoding='utf-8') as file:\n",
    "    file.write(html_content)\n"
   ]
  },
  {
   "cell_type": "code",
   "execution_count": 66,
   "id": "59ee41c3",
   "metadata": {},
   "outputs": [],
   "source": [
    "\n",
    "# Extracting the reviews\n",
    "reviews = driver.find_elements(By.CSS_SELECTOR, \".jftiEf.fontBodyMedium\")\n",
    "\n",
    "all_reviews = []\n",
    "\n",
    "for review in reviews:\n",
    "    # Extracting star rating\n",
    "    star_elements = review.find_elements(By.CSS_SELECTOR, \".kvMYJc img.vzX5Ic\")\n",
    "    rating = len(star_elements)\n",
    "    \n",
    "    # Extracting review date\n",
    "    try:\n",
    "        date = review.find_element(By.CSS_SELECTOR, \".rsqaWe\").text\n",
    "    except NoSuchElementException:\n",
    "        date = \"Unknown date\"\n",
    "    \n",
    "    # Extracting review text\n",
    "    try:\n",
    "        review_text_elem = review.find_element(By.CSS_SELECTOR, \".wiI7pd\")\n",
    "        review_text = review_text_elem.text\n",
    "    except NoSuchElementException:\n",
    "        review_text = \"No review text\"\n",
    "    \n",
    "    # Extracting reviewer name\n",
    "    reviewer_name = review.find_element(By.CSS_SELECTOR, \".d4r55\").text\n",
    "    \n",
    "    # Extract total reviews by reviewer\n",
    "    total_reviews_elem = review.find_elements(By.CSS_SELECTOR, \"div.RfnDt\")\n",
    "    total_review_text = total_reviews_elem[0].text.split('·')[1].strip() if total_reviews_elem and '·' in total_reviews_elem[0].text else 'No reviews count'\n",
    "    \n",
    "    # Extracting image URLs\n",
    "    img_buttons = review.find_elements(By.CSS_SELECTOR, \".Tya61d\")\n",
    "    img_urls = []\n",
    "    for btn in img_buttons:\n",
    "        style = btn.get_attribute(\"style\")\n",
    "        match = re.search(r'background-image: url\\(\"(.*?)\"\\)', style)\n",
    "        if match:\n",
    "            img_urls.append(match.group(1))\n",
    "    \n",
    "    # Extracting number of images\n",
    "    num_images = len(img_buttons)\n",
    "\n",
    "    review_details = {\n",
    "        \"Reviewer Name\": reviewer_name,\n",
    "        \"Review Date\": date,\n",
    "        \"Star Rating\": rating,\n",
    "        \"Review Text\": review_text,\n",
    "        \"Total Reviews by Reviewer\": total_review_text,\n",
    "        \"Number of Images\": num_images,\n",
    "        \"Image URLs\": ','.join(img_urls)\n",
    "    }\n",
    "\n",
    "    all_reviews.append(review_details)\n"
   ]
  },
  {
   "cell_type": "code",
   "execution_count": 67,
   "id": "77bc62f7",
   "metadata": {},
   "outputs": [],
   "source": [
    "\n",
    "# Function to save reviews to a CSV file\n",
    "def save_reviews_to_csv(all_reviews, filename=\"jdwreviews_relevant.csv\"):\n",
    "    with open(filename, mode='w', newline='', encoding='utf-8') as file:\n",
    "        writer = csv.DictWriter(file, fieldnames=[\"Reviewer Name\", \"Review Date\", \"Star Rating\", \"Review Text\", \"Total Reviews by Reviewer\", \"Number of Images\", \"Image URLs\"])\n",
    "        writer.writeheader()\n",
    "        for review in all_reviews:\n",
    "            writer.writerow(review)\n",
    "\n",
    "# Save the reviews to a CSV\n",
    "save_reviews_to_csv(all_reviews)\n"
   ]
  },
  {
   "cell_type": "code",
   "execution_count": 6,
   "id": "32a0406e",
   "metadata": {},
   "outputs": [],
   "source": [
    "\n",
    "###driver.close()\n"
   ]
  }
 ],
 "metadata": {
  "kernelspec": {
   "display_name": "Python 3 (ipykernel)",
   "language": "python",
   "name": "python3"
  },
  "language_info": {
   "codemirror_mode": {
    "name": "ipython",
    "version": 3
   },
   "file_extension": ".py",
   "mimetype": "text/x-python",
   "name": "python",
   "nbconvert_exporter": "python",
   "pygments_lexer": "ipython3",
   "version": "3.11.4"
  }
 },
 "nbformat": 4,
 "nbformat_minor": 5
}
